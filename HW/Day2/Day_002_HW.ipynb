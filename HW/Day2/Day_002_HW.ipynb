{
  "cells": [
    {
      "cell_type": "markdown",
      "metadata": {
        "id": "vgTl81FDYvTb"
      },
      "source": [
        "## [作業目標]\n",
        "了解機器學習適合應用的領域與範疇。"
      ]
    },
    {
      "cell_type": "markdown",
      "metadata": {
        "id": "GqK3pFuSYvTf"
      },
      "source": [
        "## [作業重點]\n",
        "透過瞭解機器學習的運作方式，找出非常適用機器學習應用的領域及其原因"
      ]
    },
    {
      "cell_type": "markdown",
      "metadata": {
        "id": "zgWC_0zHYvTg"
      },
      "source": [
        "## 作業\n",
        "請找出一個你認為機器學習可以發光發熱的領域並闡述原因? "
      ]
    },
    {
      "cell_type": "markdown",
      "source": [
        "[作業] 金融業\n",
        "\n",
        "(1) 預測營收/匯率相關指標\n",
        "\n",
        "(2) 經由客戶個人資訊分類出欠貸無法償還得可能\n",
        "\n",
        "(3) 收集客戶資料去找尋可能貸款或可開發業務的目標, 建立成增加營收業績的推薦系統"
      ],
      "metadata": {
        "id": "DejiRNdfY8lV"
      }
    },
    {
      "cell_type": "code",
      "source": [],
      "metadata": {
        "id": "3cyfhwCrZXpV"
      },
      "execution_count": null,
      "outputs": []
    }
  ],
  "metadata": {
    "kernelspec": {
      "display_name": "Python 3",
      "language": "python",
      "name": "python3"
    },
    "language_info": {
      "codemirror_mode": {
        "name": "ipython",
        "version": 3
      },
      "file_extension": ".py",
      "mimetype": "text/x-python",
      "name": "python",
      "nbconvert_exporter": "python",
      "pygments_lexer": "ipython3",
      "version": "3.6.6"
    },
    "colab": {
      "provenance": []
    }
  },
  "nbformat": 4,
  "nbformat_minor": 0
}