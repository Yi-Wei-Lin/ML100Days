{
  "cells": [
    {
      "cell_type": "markdown",
      "metadata": {
        "id": "BjgunKHzycbX"
      },
      "source": [
        "## 練習時間\n",
        "#### 請寫一個函式用來計算 Mean Square Error\n",
        "$ MSE = \\frac{1}{n}\\sum_{i=1}^{n}{(Y_i - \\hat{Y}_i)^2} $\n",
        "\n",
        "### Hint: [如何取平方](https://googoodesign.gitbooks.io/-ezpython/unit-1.html)"
      ]
    },
    {
      "cell_type": "markdown",
      "metadata": {
        "id": "gBQpLj3Xycbc"
      },
      "source": [
        "# [作業目標]\n",
        "- 仿造範例的MAE函數, 自己寫一個MSE函數(參考上面公式)"
      ]
    },
    {
      "cell_type": "markdown",
      "metadata": {
        "id": "AflDByZvycbe"
      },
      "source": [
        "# [作業重點]\n",
        "- 注意程式的縮排\n",
        "- 是否能將數學公式, 轉換為 Python 的函式組合? (In[2], Out[2])"
      ]
    },
    {
      "cell_type": "code",
      "execution_count": null,
      "metadata": {
        "collapsed": true,
        "id": "WDHm0S53ycbg"
      },
      "outputs": [],
      "source": [
        "# 載入基礎套件與代稱\n",
        "import numpy as np\n",
        "import matplotlib.pyplot as plt"
      ]
    },
    {
      "cell_type": "code",
      "execution_count": null,
      "metadata": {
        "collapsed": true,
        "id": "ZZs6awf-ycbh"
      },
      "outputs": [],
      "source": [
        "def mean_absolute_error(y, yp):\n",
        "    \"\"\"\n",
        "    計算 MAE\n",
        "    Args:\n",
        "        - y: 實際值\n",
        "        - yp: 預測值\n",
        "    Return:\n",
        "        - mae: MAE\n",
        "    \"\"\"\n",
        "    mae = MAE = sum(abs(y - yp)) / len(y)\n",
        "    return mae\n",
        "\n",
        "# 定義 mean_squared_error 這個函數, 計算並傳回 MSE\n",
        "def mean_squared_error():\n",
        "    \"\"\"\n",
        "    請完成這個 Function 後往下執行\n",
        "    \"\"\""
      ]
    },
    {
      "cell_type": "code",
      "execution_count": null,
      "metadata": {
        "collapsed": true,
        "id": "Aak_4A0Bycbi"
      },
      "outputs": [],
      "source": [
        "# 與範例相同, 不另外解說\n",
        "w = 3\n",
        "b = 0.5\n",
        "x_lin = np.linspace(0, 100, 101)\n",
        "y = (x_lin + np.random.randn(101) * 5) * w + b\n",
        "\n",
        "plt.plot(x_lin, y, 'b.', label = 'data points')\n",
        "plt.title(\"Assume we have data points\")\n",
        "plt.legend(loc = 2)\n",
        "plt.show()"
      ]
    },
    {
      "cell_type": "code",
      "execution_count": null,
      "metadata": {
        "collapsed": true,
        "id": "wa96LpMFycbj"
      },
      "outputs": [],
      "source": [
        "# 與範例相同, 不另外解說\n",
        "y_hat = x_lin * w + b\n",
        "plt.plot(x_lin, y, 'b.', label = 'data')\n",
        "plt.plot(x_lin, y_hat, 'r-', label = 'prediction')\n",
        "plt.title(\"Assume we have data points (And the prediction)\")\n",
        "plt.legend(loc = 2)\n",
        "plt.show()"
      ]
    },
    {
      "cell_type": "code",
      "execution_count": null,
      "metadata": {
        "collapsed": true,
        "id": "bOlWHD4Iycbk"
      },
      "outputs": [],
      "source": [
        "# 執行 Function, 確認有沒有正常執行\n",
        "MSE = mean_squared_error(y, y_hat)\n",
        "MAE = mean_absolute_error(y, y_hat)\n",
        "print(\"The Mean squared error is %.3f\" % (MSE))\n",
        "print(\"The Mean absolute error is %.3f\" % (MAE))"
      ]
    },
    {
      "cell_type": "markdown",
      "metadata": {
        "id": "K5dn8cdtycbl"
      },
      "source": [
        "# [作業2]\n",
        "\n",
        "請上 Kaggle, 在 Competitions 或 Dataset 中找一組競賽或資料並寫下：\n",
        "\n",
        "1. 你選的這組資料為何重要\n",
        "\n",
        "2. 資料從何而來 (tips: 譬如提供者是誰、以什麼方式蒐集)\n",
        "\n",
        "3. 蒐集而來的資料型態為何\n",
        "\n",
        "4. 這組資料想解決的問題如何評估\n",
        "\n",
        "# [作業3]\n",
        "\n",
        "想像你經營一個自由載客車隊，你希望能透過數據分析以提升業績，請你思考並描述你如何規劃整體的分析/解決方案：\n",
        "\n",
        "1. 核心問題為何 (tips：如何定義 「提升業績 & 你的假設」)\n",
        "\n",
        "2. 資料從何而來 (tips：哪些資料可能會對你想問的問題產生影響 & 資料如何蒐集)\n",
        "\n",
        "3. 蒐集而來的資料型態為何\n",
        "\n",
        "4. 你要回答的問題，其如何評估 (tips：你的假設如何驗證)"
      ]
    },
    {
      "cell_type": "markdown",
      "source": [
        "[作業2] VSB電源線故障偵測\n",
        "https://www.kaggle.com/c/vsb-power-line-fault-detection/overview\n",
        "1. 你選的這組資料為何重要\n",
        "  -> 偵測VSB電源故障問題, 避免斷電造成的損失\n",
        "2. 資料從何而來 (tips: 譬如提供者是誰、以什麼方式蒐集)\n",
        "  -> ENET Centre 提供資料, 每個訊號包含800000次的量測電壓\n",
        "3. 蒐集而來的資料型態為何\n",
        "  -> 結構化數據 : 數值型\n",
        "4. 這組資料想解決的問題如何評估\n",
        "  -> 能準確偵測出故障的問題:故障偵測分類器, MCC(Matthews correlation coefficient)\n",
        "  ![image.png](data:image/png;base64,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)"
      ],
      "metadata": {
        "id": "WxYMYLzKUZJ9"
      }
    },
    {
      "cell_type": "markdown",
      "source": [
        "[作業3]想像你經營一個自由載客車隊，你希望能透過數據分析以提升業績，請你思考並描述你如何規劃整體的分析/解決方案：\n",
        "\n",
        "核心問題為何 (tips：如何定義 「提升業績 & 你的假設」) -> 司機載客地點優化 + Line即時載客配對, 收集每一個司機的載客地點/時間/金額\n",
        "\n",
        "資料從何而來 (tips：哪些資料可能會對你想問的問題產生影響 & 資料如何蒐集) -> 根據 App or 跳表機器收集 GPS 位置訊息/金額/時間\n",
        "\n",
        "蒐集而來的資料型態為何 -> 結構化資料:數值型, 表格\n",
        "\n",
        "你要回答的問題，其如何評估 (tips：你的假設如何驗證) -> MSE, 透過回歸預測出xx地點, xx時間, 可以得到甚麼金額去調配司機路線"
      ],
      "metadata": {
        "id": "zoIKjdAAhzcR"
      }
    },
    {
      "cell_type": "code",
      "source": [],
      "metadata": {
        "id": "MOp8BsoFRvMZ"
      },
      "execution_count": null,
      "outputs": []
    }
  ],
  "metadata": {
    "anaconda-cloud": {},
    "kernelspec": {
      "display_name": "Python 3",
      "language": "python",
      "name": "python3"
    },
    "language_info": {
      "codemirror_mode": {
        "name": "ipython",
        "version": 3
      },
      "file_extension": ".py",
      "mimetype": "text/x-python",
      "name": "python",
      "nbconvert_exporter": "python",
      "pygments_lexer": "ipython3",
      "version": "3.7.0"
    },
    "colab": {
      "provenance": [],
      "collapsed_sections": []
    }
  },
  "nbformat": 4,
  "nbformat_minor": 0
}